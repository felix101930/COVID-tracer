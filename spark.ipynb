{
  "nbformat": 4,
  "nbformat_minor": 0,
  "metadata": {
    "colab": {
      "provenance": [],
      "authorship_tag": "ABX9TyMpCo2PjD1VC3hPtzjjYnFQ"
    },
    "kernelspec": {
      "name": "python3",
      "display_name": "Python 3"
    },
    "language_info": {
      "name": "python"
    }
  },
  "cells": [
    {
      "cell_type": "code",
      "execution_count": 1,
      "metadata": {
        "colab": {
          "base_uri": "https://localhost:8080/"
        },
        "id": "3Kz9Spl5A347",
        "outputId": "395f7922-570f-4a1b-ca48-6b8c3ce0d2e2"
      },
      "outputs": [
        {
          "output_type": "stream",
          "name": "stdout",
          "text": [
            "Requirement already satisfied: pyspark in /usr/local/lib/python3.11/dist-packages (3.5.4)\n",
            "Requirement already satisfied: py4j==0.10.9.7 in /usr/local/lib/python3.11/dist-packages (from pyspark) (0.10.9.7)\n"
          ]
        }
      ],
      "source": [
        "!pip install pyspark"
      ]
    },
    {
      "cell_type": "code",
      "source": [],
      "metadata": {
        "id": "IETOp6Wblny-"
      },
      "execution_count": null,
      "outputs": []
    },
    {
      "cell_type": "code",
      "source": [
        "from pyspark.sql import SparkSession\n",
        "\n",
        "spark = SparkSession.builder.appName(\"test\").getOrCreate()"
      ],
      "metadata": {
        "id": "avFhYf94gMc_"
      },
      "execution_count": 12,
      "outputs": []
    },
    {
      "cell_type": "code",
      "source": [
        "spark"
      ],
      "metadata": {
        "colab": {
          "base_uri": "https://localhost:8080/",
          "height": 221
        },
        "id": "vUbsYFclgvQE",
        "outputId": "28dd3c7b-3d52-4847-aabb-58a1021b67d5"
      },
      "execution_count": 3,
      "outputs": [
        {
          "output_type": "execute_result",
          "data": {
            "text/plain": [
              "<pyspark.sql.session.SparkSession at 0x79805f5f9390>"
            ],
            "text/html": [
              "\n",
              "            <div>\n",
              "                <p><b>SparkSession - in-memory</b></p>\n",
              "                \n",
              "        <div>\n",
              "            <p><b>SparkContext</b></p>\n",
              "\n",
              "            <p><a href=\"http://1f64e293e208:4040\">Spark UI</a></p>\n",
              "\n",
              "            <dl>\n",
              "              <dt>Version</dt>\n",
              "                <dd><code>v3.5.4</code></dd>\n",
              "              <dt>Master</dt>\n",
              "                <dd><code>local[*]</code></dd>\n",
              "              <dt>AppName</dt>\n",
              "                <dd><code>test</code></dd>\n",
              "            </dl>\n",
              "        </div>\n",
              "        \n",
              "            </div>\n",
              "        "
            ]
          },
          "metadata": {},
          "execution_count": 3
        }
      ]
    },
    {
      "cell_type": "code",
      "source": [
        "data_path = \"/content/Data/location_temp.csv\""
      ],
      "metadata": {
        "id": "WbSDzAbegwCT"
      },
      "execution_count": 4,
      "outputs": []
    },
    {
      "cell_type": "code",
      "source": [
        "df = spark.read.format(\"csv\").option(\"header\",\"true\").load(data_path)"
      ],
      "metadata": {
        "id": "CS1xW_3DitLW"
      },
      "execution_count": 5,
      "outputs": []
    },
    {
      "cell_type": "code",
      "source": [
        "df.head(10)"
      ],
      "metadata": {
        "colab": {
          "base_uri": "https://localhost:8080/"
        },
        "id": "luFHVjIJi_7N",
        "outputId": "664ed6ea-ec02-4d6a-af92-8a97cf454ae5"
      },
      "execution_count": 8,
      "outputs": [
        {
          "output_type": "execute_result",
          "data": {
            "text/plain": [
              "[Row(event_date='03/04/2019 19:48:06', location_id='loc0', temp_celcius='29'),\n",
              " Row(event_date='03/04/2019 19:53:06', location_id='loc0', temp_celcius='27'),\n",
              " Row(event_date='03/04/2019 19:58:06', location_id='loc0', temp_celcius='28'),\n",
              " Row(event_date='03/04/2019 20:03:06', location_id='loc0', temp_celcius='30'),\n",
              " Row(event_date='03/04/2019 20:08:06', location_id='loc0', temp_celcius='27'),\n",
              " Row(event_date='03/04/2019 20:13:06', location_id='loc0', temp_celcius='27'),\n",
              " Row(event_date='03/04/2019 20:18:06', location_id='loc0', temp_celcius='27'),\n",
              " Row(event_date='03/04/2019 20:23:06', location_id='loc0', temp_celcius='29'),\n",
              " Row(event_date='03/04/2019 20:28:06', location_id='loc0', temp_celcius='32'),\n",
              " Row(event_date='03/04/2019 20:33:06', location_id='loc0', temp_celcius='35')]"
            ]
          },
          "metadata": {},
          "execution_count": 8
        }
      ]
    },
    {
      "cell_type": "code",
      "source": [
        "df.show(10)"
      ],
      "metadata": {
        "colab": {
          "base_uri": "https://localhost:8080/"
        },
        "id": "1sm37CZHjqOz",
        "outputId": "3dd8c0e4-fbd9-493a-c1c5-06d6e1774b02"
      },
      "execution_count": 9,
      "outputs": [
        {
          "output_type": "stream",
          "name": "stdout",
          "text": [
            "+-------------------+-----------+------------+\n",
            "|         event_date|location_id|temp_celcius|\n",
            "+-------------------+-----------+------------+\n",
            "|03/04/2019 19:48:06|       loc0|          29|\n",
            "|03/04/2019 19:53:06|       loc0|          27|\n",
            "|03/04/2019 19:58:06|       loc0|          28|\n",
            "|03/04/2019 20:03:06|       loc0|          30|\n",
            "|03/04/2019 20:08:06|       loc0|          27|\n",
            "|03/04/2019 20:13:06|       loc0|          27|\n",
            "|03/04/2019 20:18:06|       loc0|          27|\n",
            "|03/04/2019 20:23:06|       loc0|          29|\n",
            "|03/04/2019 20:28:06|       loc0|          32|\n",
            "|03/04/2019 20:33:06|       loc0|          35|\n",
            "+-------------------+-----------+------------+\n",
            "only showing top 10 rows\n",
            "\n"
          ]
        }
      ]
    },
    {
      "cell_type": "code",
      "source": [
        "df.count()"
      ],
      "metadata": {
        "colab": {
          "base_uri": "https://localhost:8080/"
        },
        "id": "KjMrnT_wj085",
        "outputId": "c08473fc-0cd1-440a-d7b4-d5ae01ee50cd"
      },
      "execution_count": 11,
      "outputs": [
        {
          "output_type": "execute_result",
          "data": {
            "text/plain": [
              "500000"
            ]
          },
          "metadata": {},
          "execution_count": 11
        }
      ]
    },
    {
      "cell_type": "code",
      "source": [
        "data_path_util = \"/content/Data/utilization.csv\"\n",
        "df_no_header = spark.read.format(\"csv\").option(\"header\",\"false\").option(\"inferSchema\",\"true\").load(data_path_util)"
      ],
      "metadata": {
        "id": "vPnm5MXXj5wb"
      },
      "execution_count": 14,
      "outputs": []
    },
    {
      "cell_type": "code",
      "source": [
        "df.columns"
      ],
      "metadata": {
        "colab": {
          "base_uri": "https://localhost:8080/"
        },
        "id": "c-599lJwmMLV",
        "outputId": "cdfdf5cf-bd3d-4b1c-c658-6a16f0e135e0"
      },
      "execution_count": 18,
      "outputs": [
        {
          "output_type": "execute_result",
          "data": {
            "text/plain": [
              "['event_date', 'location_id', 'temp_celcius']"
            ]
          },
          "metadata": {},
          "execution_count": 18
        }
      ]
    },
    {
      "cell_type": "code",
      "source": [
        "# sampling data\n",
        "df_sample = df.sample(False, fraction = 0.1)\n",
        "df_sample.show()"
      ],
      "metadata": {
        "colab": {
          "base_uri": "https://localhost:8080/"
        },
        "id": "Hj2ko6I09_J2",
        "outputId": "dca4c437-33ff-4306-c558-e25b2ee68eea"
      },
      "execution_count": 19,
      "outputs": [
        {
          "output_type": "stream",
          "name": "stdout",
          "text": [
            "+-------------------+-----------+------------+\n",
            "|         event_date|location_id|temp_celcius|\n",
            "+-------------------+-----------+------------+\n",
            "|03/04/2019 20:13:06|       loc0|          27|\n",
            "|03/04/2019 21:23:06|       loc0|          28|\n",
            "|03/04/2019 23:08:06|       loc0|          27|\n",
            "|03/04/2019 23:28:06|       loc0|          34|\n",
            "|03/05/2019 01:03:06|       loc0|          28|\n",
            "|03/05/2019 01:18:06|       loc0|          28|\n",
            "|03/05/2019 01:48:06|       loc0|          29|\n",
            "|03/05/2019 06:13:06|       loc0|          30|\n",
            "|03/05/2019 06:18:06|       loc0|          27|\n",
            "|03/05/2019 06:58:06|       loc0|          29|\n",
            "|03/05/2019 07:43:06|       loc0|          30|\n",
            "|03/05/2019 08:28:06|       loc0|          29|\n",
            "|03/05/2019 08:33:06|       loc0|          27|\n",
            "|03/05/2019 09:13:06|       loc0|          28|\n",
            "|03/05/2019 09:23:06|       loc0|          28|\n",
            "|03/05/2019 09:58:06|       loc0|          28|\n",
            "|03/05/2019 11:18:06|       loc0|          29|\n",
            "|03/05/2019 12:48:06|       loc0|          28|\n",
            "|03/05/2019 14:08:06|       loc0|          27|\n",
            "|03/05/2019 14:58:06|       loc0|          34|\n",
            "+-------------------+-----------+------------+\n",
            "only showing top 20 rows\n",
            "\n"
          ]
        }
      ]
    },
    {
      "cell_type": "code",
      "source": [
        "#Sort\n",
        "df_sorted =df.sort(\"temp_celcius\")\n",
        "df_sorted.show()"
      ],
      "metadata": {
        "colab": {
          "base_uri": "https://localhost:8080/"
        },
        "id": "wwrSG0L5LRYR",
        "outputId": "97629a77-0f0e-4dee-d479-87178e6d3d1d"
      },
      "execution_count": 20,
      "outputs": [
        {
          "output_type": "stream",
          "name": "stdout",
          "text": [
            "+-------------------+-----------+------------+\n",
            "|         event_date|location_id|temp_celcius|\n",
            "+-------------------+-----------+------------+\n",
            "|03/04/2019 19:49:20|     loc328|          21|\n",
            "|03/04/2019 20:18:07|       loc7|          21|\n",
            "|03/05/2019 02:14:20|     loc328|          21|\n",
            "|03/05/2019 00:43:07|       loc7|          21|\n",
            "|03/04/2019 20:04:20|     loc328|          21|\n",
            "|03/04/2019 20:23:07|       loc7|          21|\n",
            "|03/04/2019 20:19:20|     loc328|          21|\n",
            "|03/04/2019 21:03:07|       loc7|          21|\n",
            "|03/04/2019 20:49:20|     loc328|          21|\n",
            "|03/04/2019 21:23:07|       loc7|          21|\n",
            "|03/04/2019 21:09:20|     loc328|          21|\n",
            "|03/04/2019 21:28:07|       loc7|          21|\n",
            "|03/04/2019 21:24:20|     loc328|          21|\n",
            "|03/04/2019 21:33:07|       loc7|          21|\n",
            "|03/04/2019 21:34:20|     loc328|          21|\n",
            "|03/04/2019 21:38:07|       loc7|          21|\n",
            "|03/04/2019 21:39:20|     loc328|          21|\n",
            "|03/04/2019 21:48:07|       loc7|          21|\n",
            "|03/04/2019 21:44:20|     loc328|          21|\n",
            "|03/04/2019 21:53:07|       loc7|          21|\n",
            "+-------------------+-----------+------------+\n",
            "only showing top 20 rows\n",
            "\n"
          ]
        }
      ]
    },
    {
      "cell_type": "code",
      "source": [
        "#filter\n",
        "df.filter(df[\"location_id\"] == \"loc7\").show()"
      ],
      "metadata": {
        "colab": {
          "base_uri": "https://localhost:8080/"
        },
        "id": "XObEhg7sLZo3",
        "outputId": "cd8041bd-cfbc-43a7-93bc-5f17038de997"
      },
      "execution_count": 25,
      "outputs": [
        {
          "output_type": "stream",
          "name": "stdout",
          "text": [
            "+-------------------+-----------+------------+\n",
            "|         event_date|location_id|temp_celcius|\n",
            "+-------------------+-----------+------------+\n",
            "|03/04/2019 19:48:07|       loc7|          24|\n",
            "|03/04/2019 19:53:07|       loc7|          23|\n",
            "|03/04/2019 19:58:07|       loc7|          22|\n",
            "|03/04/2019 20:03:07|       loc7|          25|\n",
            "|03/04/2019 20:08:07|       loc7|          22|\n",
            "|03/04/2019 20:13:07|       loc7|          28|\n",
            "|03/04/2019 20:18:07|       loc7|          21|\n",
            "|03/04/2019 20:23:07|       loc7|          21|\n",
            "|03/04/2019 20:28:07|       loc7|          24|\n",
            "|03/04/2019 20:33:07|       loc7|          22|\n",
            "|03/04/2019 20:38:07|       loc7|          26|\n",
            "|03/04/2019 20:43:07|       loc7|          27|\n",
            "|03/04/2019 20:48:07|       loc7|          24|\n",
            "|03/04/2019 20:53:07|       loc7|          23|\n",
            "|03/04/2019 20:58:07|       loc7|          23|\n",
            "|03/04/2019 21:03:07|       loc7|          21|\n",
            "|03/04/2019 21:08:07|       loc7|          25|\n",
            "|03/04/2019 21:13:07|       loc7|          25|\n",
            "|03/04/2019 21:18:07|       loc7|          25|\n",
            "|03/04/2019 21:23:07|       loc7|          21|\n",
            "+-------------------+-----------+------------+\n",
            "only showing top 20 rows\n",
            "\n"
          ]
        }
      ]
    },
    {
      "cell_type": "code",
      "source": [
        "#aggregate\n",
        "\n",
        "#aggregatre and count how much per locaiton\n",
        "df.groupby(\"location_id\").count().show()"
      ],
      "metadata": {
        "colab": {
          "base_uri": "https://localhost:8080/"
        },
        "id": "gKObK_uUOEan",
        "outputId": "4bb2bc1b-6ec8-446c-a264-a97c1fad722a"
      },
      "execution_count": 27,
      "outputs": [
        {
          "output_type": "stream",
          "name": "stdout",
          "text": [
            "+-----------+-----+\n",
            "|location_id|count|\n",
            "+-----------+-----+\n",
            "|     loc196| 1000|\n",
            "|     loc226| 1000|\n",
            "|     loc150| 1000|\n",
            "|     loc292| 1000|\n",
            "|     loc311| 1000|\n",
            "|      loc22| 1000|\n",
            "|      loc31| 1000|\n",
            "|     loc305| 1000|\n",
            "|      loc82| 1000|\n",
            "|      loc90| 1000|\n",
            "|     loc118| 1000|\n",
            "|     loc195| 1000|\n",
            "|     loc208| 1000|\n",
            "|      loc39| 1000|\n",
            "|      loc75| 1000|\n",
            "|     loc228| 1000|\n",
            "|     loc203| 1000|\n",
            "|     loc193| 1000|\n",
            "|     loc122| 1000|\n",
            "|     loc145| 1000|\n",
            "+-----------+-----+\n",
            "only showing top 20 rows\n",
            "\n"
          ]
        }
      ]
    },
    {
      "cell_type": "code",
      "source": [],
      "metadata": {
        "id": "_aNDCuuzQbr_"
      },
      "execution_count": null,
      "outputs": []
    }
  ]
}